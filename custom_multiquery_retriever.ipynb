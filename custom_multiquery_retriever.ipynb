{
 "cells": [
  {
   "cell_type": "markdown",
   "metadata": {},
   "source": [
    "<h2 style=\"color:darkblue;\"> <strong>RAG but better - MultiQueryRetriever</strong> 🚀</h2>"
   ]
  },
  {
   "cell_type": "code",
   "execution_count": 6,
   "metadata": {},
   "outputs": [],
   "source": [
    "import os\n",
    "import psycopg2\n",
    "from pathlib import Path\n",
    "from dotenv import load_dotenv\n",
    "load_dotenv()\n",
    "\n",
    "from langchain_community.document_loaders.pdf import PyPDFium2Loader"
   ]
  },
  {
   "cell_type": "code",
   "execution_count": 7,
   "metadata": {},
   "outputs": [],
   "source": [
    "async def load_all_pdfs_from_folder(folder_path: str):\n",
    "    folder = Path(folder_path)\n",
    "    \n",
    "    if not folder.is_dir():\n",
    "        raise FileNotFoundError(f\"The folder {folder_path} does not exist.\")\n",
    "\n",
    "    pdf_files = list(folder.glob(\"*.pdf\"))\n",
    "    \n",
    "    if not pdf_files:\n",
    "        raise FileNotFoundError(\"No PDF files found in the specified folder.\")\n",
    "\n",
    "    all_pages = []\n",
    "\n",
    "    for pdf_file in pdf_files:\n",
    "        loader = PyPDFium2Loader(str(pdf_file))\n",
    "        \n",
    "        title = pdf_file.stem\n",
    "        \n",
    "        async for page in loader.alazy_load():\n",
    "            page.metadata['title'] = title\n",
    "            all_pages.append(page)\n",
    "\n",
    "    return all_pages\n"
   ]
  },
  {
   "cell_type": "code",
   "execution_count": 8,
   "metadata": {},
   "outputs": [],
   "source": [
    "folder_path = \"data\"\n",
    "pages = await load_all_pdfs_from_folder(folder_path)"
   ]
  },
  {
   "cell_type": "code",
   "execution_count": 9,
   "metadata": {},
   "outputs": [
    {
     "name": "stdout",
     "output_type": "stream",
     "text": [
      "<class 'langchain_core.documents.base.Document'> 99\n"
     ]
    }
   ],
   "source": [
    "print(type(pages[0]), len(pages))"
   ]
  },
  {
   "cell_type": "code",
   "execution_count": 10,
   "metadata": {},
   "outputs": [
    {
     "data": {
      "text/plain": [
       "{'AI Meets the Classroom: When Does ChatGPT Harm Learning?',\n",
       " 'Generative AI Can Harm Learning'}"
      ]
     },
     "execution_count": 10,
     "metadata": {},
     "output_type": "execute_result"
    }
   ],
   "source": [
    "{page.metadata.get('title') for page in pages}"
   ]
  },
  {
   "cell_type": "markdown",
   "metadata": {},
   "source": [
    "### **Chunk documents**"
   ]
  },
  {
   "cell_type": "code",
   "execution_count": 11,
   "metadata": {},
   "outputs": [],
   "source": [
    "from langchain_text_splitters import RecursiveCharacterTextSplitter\n",
    "\n",
    "text_splitter = RecursiveCharacterTextSplitter(\n",
    "    chunk_size=2000,\n",
    "    chunk_overlap=200,\n",
    "    length_function=len,\n",
    "    is_separator_regex=False,\n",
    ")"
   ]
  },
  {
   "cell_type": "code",
   "execution_count": 12,
   "metadata": {},
   "outputs": [],
   "source": [
    "chunks = text_splitter.split_documents(pages)"
   ]
  },
  {
   "cell_type": "code",
   "execution_count": 13,
   "metadata": {},
   "outputs": [
    {
     "data": {
      "text/plain": [
       "Document(metadata={'source': 'data/Generative AI Can Harm Learning.pdf', 'page': 0, 'title': 'Generative AI Can Harm Learning'}, page_content='Generative AI Can Harm Learning\\r\\nHamsa Bastani,1∗ Osbert Bastani,2∗ Alp Sungu,1∗†\\r\\nHaosen Ge,3 Ozge Kabakcı, ¨ 4 Rei Mariman\\r\\n1Operations, Information and Decisions, University of Pennsylvania\\r\\n2Computer and Information Science, University of Pennsylvania\\r\\n3Wharton AI & Analytics, University of Pennsylvania\\r\\n4Budapest British International School\\r\\n∗These authors (H.B., O.B., A.S.) contributed equally.\\r\\n†To whom correspondence should be addressed; E-mail: alpsungu@wharton.upenn.edu.\\r\\nGenerative artificial intelligence (AI) is poised to revolutionize how humans\\r\\nwork, and has already demonstrated promise in significantly improving hu\\x02man productivity. However, a key remaining question is how generative AI af\\x02fects learning, namely, how humans acquire new skills as they perform tasks.\\r\\nThis kind of skill learning is critical to long-term productivity gains, especially\\r\\nin domains where generative AI is fallible and human experts must check its\\r\\noutputs. We study the impact of generative AI, specifically OpenAI’s GPT\\x024, on human learning in the context of math classes at a high school. In a\\r\\nfield experiment involving nearly a thousand students, we have deployed and\\r\\nevaluated two GPT based tutors, one that mimics a standard ChatGPT inter\\x02face (called GPT Base) and one with prompts designed to safeguard learning\\r\\n(called GPT Tutor). These tutors comprise about 15% of the curriculum in\\r\\neach of three grades. Consistent with prior work, our results show that ac\\x021')"
      ]
     },
     "execution_count": 13,
     "metadata": {},
     "output_type": "execute_result"
    }
   ],
   "source": [
    "chunks[0]"
   ]
  },
  {
   "cell_type": "code",
   "execution_count": 18,
   "metadata": {},
   "outputs": [
    {
     "data": {
      "text/plain": [
       "143"
      ]
     },
     "execution_count": 18,
     "metadata": {},
     "output_type": "execute_result"
    }
   ],
   "source": [
    "len(chunks)"
   ]
  },
  {
   "cell_type": "markdown",
   "metadata": {},
   "source": [
    "### **Embed chunks**"
   ]
  },
  {
   "cell_type": "code",
   "execution_count": 14,
   "metadata": {},
   "outputs": [
    {
     "name": "stderr",
     "output_type": "stream",
     "text": [
      "/home/martyna/.cache/pypoetry/virtualenvs/rag-multiqueryretrieval-8FmIK_BO-py3.12/lib/python3.12/site-packages/sentence_transformers/cross_encoder/CrossEncoder.py:13: TqdmWarning: IProgress not found. Please update jupyter and ipywidgets. See https://ipywidgets.readthedocs.io/en/stable/user_install.html\n",
      "  from tqdm.autonotebook import tqdm, trange\n"
     ]
    }
   ],
   "source": [
    "from sentence_transformers import SentenceTransformer\n",
    "\n",
    "model = SentenceTransformer(\"sentence-transformers/all-MiniLM-L12-v2\")\n",
    "\n",
    "text = [chunk.page_content for chunk in chunks]\n",
    "\n",
    "embeddings = model.encode(text)\n",
    "print(embeddings.shape)"
   ]
  },
  {
   "cell_type": "code",
   "execution_count": 29,
   "metadata": {},
   "outputs": [],
   "source": [
    "import numpy as np\n",
    "from sentence_transformers import SentenceTransformer\n",
    "from sklearn.metrics.pairwise import cosine_similarity\n",
    "from openai import OpenAI\n",
    "\n",
    "model = SentenceTransformer(\"sentence-transformers/all-MiniLM-L12-v2\")\n",
    "\n",
    "text = [chunk.page_content for chunk in chunks]\n",
    "embeddings = model.encode(text)\n",
    "\n",
    "query = \"How students are cheating with the help of AI\"\n",
    "\n",
    "query_embedding = model.encode([query])\n",
    "\n",
    "similarities = cosine_similarity(query_embedding, embeddings)\n",
    "\n",
    "# Find the most relevant chunk(s) (e.g., top 5)\n",
    "top_k = 5 \n",
    "top_k_indices = np.argsort(similarities[0])[-top_k:][::-1]  # Sorting by similarity\n",
    "\n",
    "relevant_texts = [text[i] for i in top_k_indices]\n",
    "\n",
    "context = \"\\n\".join(relevant_texts)"
   ]
  },
  {
   "cell_type": "code",
   "execution_count": 30,
   "metadata": {},
   "outputs": [
    {
     "name": "stdout",
     "output_type": "stream",
     "text": [
      "ChatCompletionMessage(content=\"Students are increasingly leveraging AI, particularly large language models (LLMs) like ChatGPT, to their advantage in education. While AI can be a helpful tool for understanding difficult concepts and improving learning, it can also facilitate academic dishonesty. Here are some of the ways students might misuse AI for cheating:\\n\\n1. **Automated Completion of Assignments**: Students can use AI to generate responses or solve problems directly related to their homework or assignments. By inputting prompts or questions into an AI system, the model can generate text or code that students submit without engaging with the material themselves.\\n\\n2. **Math and Scientific Problem Solving**: In subjects like mathematics or physics, students can input complex problem descriptions into AI tools to get step-by-step solutions or final answers, bypassing the learning process required to solve these problems independently.\\n\\n3. **Plagiarism and Essay Writing**: Students might use AI tools to draft essays or written assignments, leading to plagiarism where students pass off AI-generated content as their own work. While AI texts can sometimes be distinguished from student writing, they are increasingly sophisticated and can be hard to detect.\\n\\n4. **Test and Exam Assistance**: Although direct use of AI during exams is more challenging due to proctoring systems, students might still use AI to prepare cheat sheets or memorize AI-generated answers.\\n\\n5. **Bypassing Learning**: Even when not explicitly cheating, students might rely too heavily on AI for understanding class material, which can hinder their direct learning experiences and skills development. They might use AI as mnemonic devices or to outsource critical thinking tasks rather than developing these abilities themselves.\\n\\nThe studies you've referenced show that while AI has the potential to enhance learning through personalized tutoring and support, it also poses risks. These include a reduction in genuine learning due to over-reliance on AI, and students often overestimate their understanding after AI assistance. This dual nature suggests that educational institutions must carefully guide AI use and may need to incorporate strategies to teach students ethical AI usage, alongside implementing robust systems to prevent misuse in academic settings.\", refusal=None, role='assistant', function_call=None, tool_calls=None)\n"
     ]
    }
   ],
   "source": [
    "client = OpenAI()\n",
    "\n",
    "completion = client.chat.completions.create(\n",
    "    model=\"gpt-4o\",\n",
    "    messages=[\n",
    "        {\"role\": \"system\", \"content\": \"You are a helpful assistant.\"},\n",
    "        {\n",
    "            \"role\": \"user\",\n",
    "            \"content\": f\"Here you have a context that can help you answer the question: {context} The Question: {query} Answer:\"\n",
    "        }\n",
    "    ]\n",
    ")\n",
    "\n",
    "print(completion.choices[0].message)"
   ]
  },
  {
   "cell_type": "markdown",
   "metadata": {},
   "source": [
    "### **Connect to PostgreSQL**"
   ]
  },
  {
   "cell_type": "code",
   "execution_count": null,
   "metadata": {},
   "outputs": [],
   "source": [
    "db_name = os.getenv(\"DB_NAME\")\n",
    "db_user = os.getenv(\"DB_USER\")\n",
    "db_password = os.getenv(\"DB_PASSWORD\")\n",
    "db_host = os.getenv(\"DB_HOST\")\n",
    "db_port = os.getenv(\"DB_PORT\")\n",
    "\n",
    "# Connect to PostgreSQL\n",
    "try:\n",
    "    conn = psycopg2.connect(\n",
    "        dbname=db_name,\n",
    "        user=db_user,\n",
    "        password=db_password,\n",
    "        host=db_host,\n",
    "        port=db_port\n",
    "    )\n",
    "    print(\"Connected to the database!\")\n",
    "except Exception as e:\n",
    "    print(f\"Error connecting to the database: {e}\")\n",
    "    exit()\n",
    "\n",
    "cur = conn.cursor()\n",
    "\n",
    "try:\n",
    "    cur.execute(\"\"\"\n",
    "        SELECT table_name \n",
    "        FROM information_schema.tables \n",
    "        WHERE table_schema = 'public'\n",
    "    \"\"\")\n",
    "    tables = cur.fetchall()\n",
    "    \n",
    "    print(\"\\nTables and their columns in the database:\")\n",
    "    for table in tables:\n",
    "        table_name = table[0]\n",
    "        print(f\"\\nTable: {table_name}\")\n",
    "        \n",
    "        cur.execute(f\"\"\"\n",
    "            SELECT column_name\n",
    "            FROM information_schema.columns\n",
    "            WHERE table_name = '{table_name}'\n",
    "        \"\"\")\n",
    "        columns = cur.fetchall()\n",
    "        \n",
    "        print(\"Columns:\")\n",
    "        for column in columns:\n",
    "            print(f\" - {column[0]}\")\n",
    "except Exception as e:\n",
    "    print(f\"Error fetching table or column names: {e}\")\n",
    "\n",
    "cur.close()\n",
    "conn.close()"
   ]
  },
  {
   "cell_type": "markdown",
   "metadata": {},
   "source": []
  }
 ],
 "metadata": {
  "kernelspec": {
   "display_name": "rag-multiqueryretrieval-8FmIK_BO-py3.12",
   "language": "python",
   "name": "python3"
  },
  "language_info": {
   "codemirror_mode": {
    "name": "ipython",
    "version": 3
   },
   "file_extension": ".py",
   "mimetype": "text/x-python",
   "name": "python",
   "nbconvert_exporter": "python",
   "pygments_lexer": "ipython3",
   "version": "3.12.0"
  }
 },
 "nbformat": 4,
 "nbformat_minor": 2
}
