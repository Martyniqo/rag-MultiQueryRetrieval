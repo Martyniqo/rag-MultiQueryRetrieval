{
 "cells": [
  {
   "cell_type": "markdown",
   "metadata": {},
   "source": [
    "### RAG but better - MultiQueryRetriever"
   ]
  },
  {
   "cell_type": "code",
   "execution_count": 7,
   "metadata": {},
   "outputs": [],
   "source": [
    "from pathlib import Path\n",
    "from dotenv import load_dotenv\n",
    "\n",
    "load_dotenv()\n",
    "from langchain_community.document_loaders.pdf import PyPDFium2Loader"
   ]
  },
  {
   "cell_type": "code",
   "execution_count": 8,
   "metadata": {},
   "outputs": [],
   "source": [
    "async def load_all_pdfs_from_folder(folder_path: str):\n",
    "    folder = Path(folder_path)\n",
    "    \n",
    "    # Check if the folder exists\n",
    "    if not folder.is_dir():\n",
    "        raise FileNotFoundError(f\"The folder {folder_path} does not exist.\")\n",
    "\n",
    "    # Get all PDF files in the folder\n",
    "    pdf_files = list(folder.glob(\"*.pdf\"))\n",
    "    \n",
    "    # Check if any PDF files are found\n",
    "    if not pdf_files:\n",
    "        raise FileNotFoundError(\"No PDF files found in the specified folder.\")\n",
    "\n",
    "    all_pages = []\n",
    "\n",
    "    # Iterate over each PDF and load the pages asynchronously\n",
    "    for pdf_file in pdf_files:\n",
    "        loader = PyPDFium2Loader(str(pdf_file))\n",
    "        async for page in loader.alazy_load():\n",
    "            all_pages.append(page)\n",
    "\n",
    "    return all_pages"
   ]
  },
  {
   "cell_type": "code",
   "execution_count": 9,
   "metadata": {},
   "outputs": [
    {
     "name": "stderr",
     "output_type": "stream",
     "text": [
      "/home/martyna/.cache/pypoetry/virtualenvs/rag-multiqueryretrieval-8FmIK_BO-py3.12/lib/python3.12/site-packages/pypdfium2/_helpers/textpage.py:80: UserWarning: get_text_range() call with default params will be implicitly redirected to get_text_bounded()\n",
      "  warnings.warn(\"get_text_range() call with default params will be implicitly redirected to get_text_bounded()\")\n"
     ]
    }
   ],
   "source": [
    "folder_path = \"data\"\n",
    "pages = await load_all_pdfs_from_folder(folder_path)"
   ]
  },
  {
   "cell_type": "code",
   "execution_count": 12,
   "metadata": {},
   "outputs": [
    {
     "name": "stdout",
     "output_type": "stream",
     "text": [
      "<class 'langchain_core.documents.base.Document'> 99\n"
     ]
    }
   ],
   "source": [
    "print(type(pages[0]), len(pages))"
   ]
  },
  {
   "cell_type": "code",
   "execution_count": 16,
   "metadata": {},
   "outputs": [
    {
     "data": {
      "text/plain": [
       "{'data/AI Meets the Classroom: When Does ChatGPT Harm Learning?.pdf',\n",
       " 'data/Generative AI Can Harm Learning.pdf'}"
      ]
     },
     "execution_count": 16,
     "metadata": {},
     "output_type": "execute_result"
    }
   ],
   "source": [
    "{page.metadata.get('source') for page in pages}"
   ]
  },
  {
   "cell_type": "markdown",
   "metadata": {},
   "source": []
  }
 ],
 "metadata": {
  "kernelspec": {
   "display_name": "rag-multiqueryretrieval-8FmIK_BO-py3.12",
   "language": "python",
   "name": "python3"
  },
  "language_info": {
   "codemirror_mode": {
    "name": "ipython",
    "version": 3
   },
   "file_extension": ".py",
   "mimetype": "text/x-python",
   "name": "python",
   "nbconvert_exporter": "python",
   "pygments_lexer": "ipython3",
   "version": "3.12.0"
  }
 },
 "nbformat": 4,
 "nbformat_minor": 2
}
