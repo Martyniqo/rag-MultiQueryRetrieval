{
 "cells": [
  {
   "cell_type": "markdown",
   "metadata": {},
   "source": [
    "<h2 style=\"color:blue;\"> <strong>RAG but better - MultiQueryRetriever</strong> 🚀</h2>"
   ]
  },
  {
   "cell_type": "code",
   "execution_count": 21,
   "metadata": {},
   "outputs": [],
   "source": [
    "import os\n",
    "import psycopg2\n",
    "from pathlib import Path\n",
    "from dotenv import load_dotenv\n",
    "\n",
    "load_dotenv()\n",
    "from langchain_community.document_loaders.pdf import PyPDFium2Loader"
   ]
  },
  {
   "cell_type": "code",
   "execution_count": 8,
   "metadata": {},
   "outputs": [],
   "source": [
    "async def load_all_pdfs_from_folder(folder_path: str):\n",
    "    folder = Path(folder_path)\n",
    "    \n",
    "    if not folder.is_dir():\n",
    "        raise FileNotFoundError(f\"The folder {folder_path} does not exist.\")\n",
    "\n",
    "    pdf_files = list(folder.glob(\"*.pdf\"))\n",
    "    \n",
    "    if not pdf_files:\n",
    "        raise FileNotFoundError(\"No PDF files found in the specified folder.\")\n",
    "\n",
    "    all_pages = []\n",
    "\n",
    "    for pdf_file in pdf_files:\n",
    "        loader = PyPDFium2Loader(str(pdf_file))\n",
    "        async for page in loader.alazy_load():\n",
    "            all_pages.append(page)\n",
    "\n",
    "    return all_pages"
   ]
  },
  {
   "cell_type": "code",
   "execution_count": 9,
   "metadata": {},
   "outputs": [
    {
     "name": "stderr",
     "output_type": "stream",
     "text": [
      "/home/martyna/.cache/pypoetry/virtualenvs/rag-multiqueryretrieval-8FmIK_BO-py3.12/lib/python3.12/site-packages/pypdfium2/_helpers/textpage.py:80: UserWarning: get_text_range() call with default params will be implicitly redirected to get_text_bounded()\n",
      "  warnings.warn(\"get_text_range() call with default params will be implicitly redirected to get_text_bounded()\")\n"
     ]
    }
   ],
   "source": [
    "folder_path = \"data\"\n",
    "pages = await load_all_pdfs_from_folder(folder_path)"
   ]
  },
  {
   "cell_type": "code",
   "execution_count": 12,
   "metadata": {},
   "outputs": [
    {
     "name": "stdout",
     "output_type": "stream",
     "text": [
      "<class 'langchain_core.documents.base.Document'> 99\n"
     ]
    }
   ],
   "source": [
    "print(type(pages[0]), len(pages))"
   ]
  },
  {
   "cell_type": "code",
   "execution_count": 16,
   "metadata": {},
   "outputs": [
    {
     "data": {
      "text/plain": [
       "{'data/AI Meets the Classroom: When Does ChatGPT Harm Learning?.pdf',\n",
       " 'data/Generative AI Can Harm Learning.pdf'}"
      ]
     },
     "execution_count": 16,
     "metadata": {},
     "output_type": "execute_result"
    }
   ],
   "source": [
    "{page.metadata.get('source') for page in pages}"
   ]
  },
  {
   "cell_type": "markdown",
   "metadata": {},
   "source": [
    "### **Connect to PostgreSQL**"
   ]
  },
  {
   "cell_type": "code",
   "execution_count": 29,
   "metadata": {},
   "outputs": [
    {
     "name": "stdout",
     "output_type": "stream",
     "text": [
      "Connected to the database!\n",
      "\n",
      "Tables in the database:\n",
      "embeddings_256\n"
     ]
    }
   ],
   "source": [
    "db_name = os.getenv(\"DB_NAME\")\n",
    "db_user = os.getenv(\"DB_USER\")\n",
    "db_password = os.getenv(\"DB_PASSWORD\")\n",
    "db_host = os.getenv(\"DB_HOST\")\n",
    "db_port = os.getenv(\"DB_PORT\")\n",
    "\n",
    "# Connect to PostgreSQL\n",
    "try:\n",
    "    conn = psycopg2.connect(\n",
    "        dbname=db_name,\n",
    "        user=db_user,\n",
    "        password=db_password,\n",
    "        host=db_host,\n",
    "        port=db_port\n",
    "    )\n",
    "    print(\"Connected to the database!\")\n",
    "except Exception as e:\n",
    "    print(f\"Error connecting to the database: {e}\")\n",
    "    exit()\n",
    "\n",
    "cur = conn.cursor()\n",
    "\n",
    "try:\n",
    "    cur.execute(\"\"\"\n",
    "        SELECT table_name \n",
    "        FROM information_schema.tables \n",
    "        WHERE table_schema = 'public'\n",
    "    \"\"\")\n",
    "    tables = cur.fetchall()\n",
    "    \n",
    "    print(\"\\nTables in the database:\")\n",
    "    for table in tables:\n",
    "        print(table[0])\n",
    "except Exception as e:\n",
    "    print(f\"Error fetching table names: {e}\")\n",
    "\n",
    "\n",
    "cur.close()\n",
    "conn.close()"
   ]
  },
  {
   "cell_type": "markdown",
   "metadata": {},
   "source": []
  }
 ],
 "metadata": {
  "kernelspec": {
   "display_name": "rag-multiqueryretrieval-8FmIK_BO-py3.12",
   "language": "python",
   "name": "python3"
  },
  "language_info": {
   "codemirror_mode": {
    "name": "ipython",
    "version": 3
   },
   "file_extension": ".py",
   "mimetype": "text/x-python",
   "name": "python",
   "nbconvert_exporter": "python",
   "pygments_lexer": "ipython3",
   "version": "3.12.0"
  }
 },
 "nbformat": 4,
 "nbformat_minor": 2
}
